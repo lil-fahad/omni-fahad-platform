{
 "cells": [
  {
   "cell_type": "markdown",
   "id": "50b09212",
   "metadata": {},
   "source": [
    "# OmniMarket Strategy Builder\n",
    "Simulate multi-leg options strategies like spreads, straddles, and condors."
   ]
  },
  {
   "cell_type": "code",
   "execution_count": null,
   "id": "a6b4946c",
   "metadata": {},
   "outputs": [],
   "source": [
    "!pip install yfinance"
   ]
  },
  {
   "cell_type": "code",
   "execution_count": null,
   "id": "17f14e2f",
   "metadata": {},
   "outputs": [],
   "source": [
    "import yfinance as yf\n",
    "import numpy as np\n",
    "import matplotlib.pyplot as plt\n",
    "from datetime import datetime"
   ]
  },
  {
   "cell_type": "code",
   "execution_count": null,
   "id": "e9f4d687",
   "metadata": {},
   "outputs": [],
   "source": [
    "# User Input\n",
    "ticker = input(\"Enter ticker (e.g. AAPL): \").upper()\n",
    "yf_ticker = yf.Ticker(ticker)\n",
    "expirations = yf_ticker.options\n",
    "print(\"Available Expiration Dates:\", expirations)\n",
    "expiry = input(\"Select an expiration date (copy from above): \")"
   ]
  },
  {
   "cell_type": "code",
   "execution_count": null,
   "id": "bebd719d",
   "metadata": {},
   "outputs": [],
   "source": [
    "# Multi-leg Strategy Builder\n",
    "chain = yf_ticker.option_chain(expiry)\n",
    "calls, puts = chain.calls, chain.puts\n",
    "legs = []\n",
    "print(\"\\nDefine your strategy legs one by one. Type 'done' when finished.\")\n",
    "while True:\n",
    "    leg_type = input(\"Call/Put (type 'done' to finish): \").lower()\n",
    "    if leg_type == 'done': break\n",
    "    strike = float(input(\"Strike price: \"))\n",
    "    side = input(\"Buy or Sell: \").lower()\n",
    "    legs.append({'type': leg_type, 'strike': strike, 'side': side})"
   ]
  },
  {
   "cell_type": "code",
   "execution_count": null,
   "id": "1a6efd03",
   "metadata": {},
   "outputs": [],
   "source": [
    "# Simulation\n",
    "S0 = yf_ticker.history(period='1d')['Close'].iloc[-1]\n",
    "price_range = np.linspace(S0 * 0.7, S0 * 1.3, 150)\n",
    "pnl = np.zeros_like(price_range)\n",
    "for leg in legs:\n",
    "    df = calls if leg['type'] == 'call' else puts\n",
    "    row = df[df['strike'] == leg['strike']].iloc[0]\n",
    "    premium = (row['bid'] + row['ask']) / 2\n",
    "    for i, price in enumerate(price_range):\n",
    "        value = max(0, price - leg['strike']) if leg['type'] == 'call' else max(0, leg['strike'] - price)\n",
    "        leg_pnl = value - premium if leg['side'] == 'buy' else premium - value\n",
    "        pnl[i] += leg_pnl"
   ]
  },
  {
   "cell_type": "code",
   "execution_count": null,
   "id": "2d0598ba",
   "metadata": {},
   "outputs": [],
   "source": [
    "# Plotting\n",
    "plt.figure(figsize=(10, 5))\n",
    "plt.plot(price_range, pnl, label='Strategy P&L')\n",
    "plt.axhline(0, color='black', linestyle='--')\n",
    "plt.xlabel('Stock Price at Expiry')\n",
    "plt.ylabel('Profit / Loss')\n",
    "plt.title(f'{ticker} Multi-leg Strategy P&L')\n",
    "plt.grid(True)\n",
    "plt.legend()\n",
    "plt.show()"
   ]
  }
 ],
 "metadata": {},
 "nbformat": 4,
 "nbformat_minor": 5
}
