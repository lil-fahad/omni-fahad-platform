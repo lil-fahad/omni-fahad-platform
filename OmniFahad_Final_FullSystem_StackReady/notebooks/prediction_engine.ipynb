{
 "cells": [
  {
   "cell_type": "markdown",
   "id": "b9733b07",
   "metadata": {},
   "source": [
    "# OmniMarket System with Ticker and Expiration Picker\n",
    "Now supports interactive selection of stock ticker and available option expiry dates."
   ]
  },
  {
   "cell_type": "code",
   "execution_count": null,
   "id": "13c5e5a6",
   "metadata": {},
   "outputs": [],
   "source": [
    "\n",
    "# === Ticker and Expiry Selection ===\n",
    "import yfinance as yf\n",
    "\n",
    "# Ask user to enter a stock ticker\n",
    "ticker = input(\"Enter stock ticker (e.g., AAPL, TSLA, MSFT): \").upper()\n",
    "yf_ticker = yf.Ticker(ticker)\n",
    "\n",
    "# Show available expiration dates\n",
    "expirations = yf_ticker.options\n",
    "if not expirations:\n",
    "    raise ValueError(f\"No options available for {ticker}. Please try another ticker.\")\n",
    "\n",
    "print(f\"Available Expiration Dates for {ticker}:\")\n",
    "for i, date in enumerate(expirations):\n",
    "    print(f\"{i}: {date}\")\n",
    "\n",
    "# Ask user to select expiration date\n",
    "expiry = input(\"Select expiration date (e.g., 2024-06-21): \")\n",
    "if expiry not in expirations:\n",
    "    raise ValueError(\"Invalid expiration date. Please copy exactly from the list above.\")\n"
   ]
  },
  {
   "cell_type": "code",
   "execution_count": null,
   "id": "c7946b84",
   "metadata": {},
   "outputs": [],
   "source": [
    "\n",
    "# === Stock Search Input ===\n",
    "ticker = input(\"Enter stock ticker (e.g., AAPL, TSLA, MSFT): \").upper()\n"
   ]
  },
  {
   "cell_type": "code",
   "execution_count": null,
   "id": "db2b3071",
   "metadata": {},
   "outputs": [],
   "source": [
    "# ===# OmniMarket Full System - Prediction + ML Preparation"
   ]
  },
  {
   "cell_type": "code",
   "execution_count": null,
   "id": "99393eef",
   "metadata": {},
   "outputs": [],
   "source": [
    "# ===Imports ===\n",
    "import numpy as np\n",
    "import pandas as pd\n",
    "import yfinance as yf\n",
    "import matplotlib.pyplot as plt\n",
    "from datetime import datetime, timedelta\n",
    "from scipy.stats import norm"
   ]
  },
  {
   "cell_type": "code",
   "execution_count": null,
   "id": "aa90b417",
   "metadata": {},
   "outputs": [],
   "source": [
    "# ===Black-Scholes Pricing ===\n",
    "def black_scholes_price(S, K, T, r, sigma, option_type):\n",
    "    d1 = (np.log(S / K) + (r + 0.5 * sigma**2) * T) / (sigma * np.sqrt(T))\n",
    "    d2 = d1 - sigma * np.sqrt(T)\n",
    "    if option_type == 'call':\n",
    "        return S * norm.cdf(d1) - K * np.exp(-r * T) * norm.cdf(d2)\n",
    "    elif option_type == 'put':\n",
    "        return K * np.exp(-r * T) * norm.cdf(-d2) - S * norm.cdf(-d1)"
   ]
  },
  {
   "cell_type": "code",
   "execution_count": null,
   "id": "a5d34805",
   "metadata": {},
   "outputs": [],
   "source": [
    "# ===Greeks Calculation ===\n",
    "def black_scholes_greeks(S, K, T, r, sigma, option_type):\n",
    "    d1 = (np.log(S / K) + (r + 0.5 * sigma**2) * T) / (sigma * np.sqrt(T))\n",
    "    d2 = d1 - sigma * np.sqrt(T)\n",
    "    delta = norm.cdf(d1) if option_type == 'call' else -norm.cdf(-d1)\n",
    "    gamma = norm.pdf(d1) / (S * sigma * np.sqrt(T))\n",
    "    vega = S * norm.pdf(d1) * np.sqrt(T) / 100\n",
    "    theta = (-S * norm.pdf(d1) * sigma / (2 * np.sqrt(T)) -\n",
    "             r * K * np.exp(-r * T) * (norm.cdf(d2) if option_type == 'call' else norm.cdf(-d2))) / 365\n",
    "    rho = (K * T * np.exp(-r * T) * (norm.cdf(d2) if option_type == 'call' else -norm.cdf(-d2))) / 100\n",
    "    return {'Delta': delta, 'Gamma': gamma, 'Vega': vega, 'Theta': theta, 'Rho': rho}"
   ]
  },
  {
   "cell_type": "code",
   "execution_count": null,
   "id": "767316ea",
   "metadata": {},
   "outputs": [],
   "source": [
    "# ===Option Chain Loader ===\n",
    "def get_option_chain(ticker, expiry):\n",
    "    return yf.Ticker(ticker).option_chain(expiry)"
   ]
  },
  {
   "cell_type": "code",
   "execution_count": null,
   "id": "2b9124fb",
   "metadata": {},
   "outputs": [],
   "source": [
    "# ===High Accuracy Simulation ===\n",
    "def simulate_option_accurate(ticker, expiry, call_index=10, put_index=10, r=0.05):\n",
    "    chain = get_option_chain(ticker, expiry)\n",
    "    calls, puts = chain.calls, chain.puts\n",
    "    call = calls.iloc[call_index]\n",
    "    put = puts.iloc[put_index]\n",
    "\n",
    "    S0 = yf.Ticker(ticker).history(period='1d')['Close'].iloc[-1]\n",
    "    expiry_date = pd.to_datetime(expiry)\n",
    "    T = max((expiry_date - datetime.utcnow()).days / 365, 1/365)\n",
    "\n",
    "    price_range = np.linspace(S0 * 0.7, S0 * 1.3, 150)\n",
    "    call_premium = (call['bid'] + call['ask']) / 2\n",
    "    put_premium = (put['bid'] + put['ask']) / 2\n",
    "    call_iv = call.get('impliedVolatility', 0.3)\n",
    "    put_iv = put.get('impliedVolatility', 0.3)\n",
    "\n",
    "    call_bs_prices = [black_scholes_price(S, call.strike, T, r, call_iv, 'call') for S in price_range]\n",
    "    put_bs_prices = [black_scholes_price(S, put.strike, T, r, put_iv, 'put') for S in price_range]\n",
    "    call_pnl = np.array(call_bs_prices) - call_premium\n",
    "    put_pnl = np.array(put_bs_prices) - put_premium\n",
    "\n",
    "    plt.figure(figsize=(12, 6))\n",
    "    plt.plot(price_range, call_pnl, label=f'Call @ {call.strike}')\n",
    "    plt.plot(price_range, put_pnl, label=f'Put @ {put.strike}')\n",
    "    plt.axhline(0, color='black', linestyle='--')\n",
    "    plt.title(f\"{ticker} Option P&L using Black-Scholes ({expiry})\")\n",
    "    plt.xlabel(\"Stock Price at Expiry\")\n",
    "    plt.ylabel(\"Profit / Loss\")\n",
    "    plt.legend()\n",
    "    plt.grid(True)\n",
    "    plt.tight_layout()\n",
    "    plt.show()\n",
    "\n",
    "    return {\n",
    "        \"Call Greeks\": black_scholes_greeks(S0, call.strike, T, r, call_iv, 'call'),\n",
    "        \"Put Greeks\": black_scholes_greeks(S0, put.strike, T, r, put_iv, 'put'),\n",
    "        \"Days to Expiry\": T * 365,\n",
    "        \"Underlying Price\": S0,\n",
    "        \"Call Premium\": call_premium,\n",
    "        \"Put Premium\": put_premium\n",
    "    }"
   ]
  },
  {
   "cell_type": "code",
   "execution_count": null,
   "id": "25ae9880",
   "metadata": {},
   "outputs": [],
   "source": [
    "# ===ML Training Base: Fetch Stock Data ===\n",
    "def fetch_stock_data(ticker, months=6):\n",
    "    end_date = datetime.today()\n",
    "    start_date = end_date - timedelta(days=30 * months)\n",
    "    data = yf.download(ticker, start=start_date.strftime('%Y-%m-%d'), end=end_date.strftime('%Y-%m-%d'))\n",
    "    return data[['Open', 'High', 'Low', 'Close', 'Volume']]"
   ]
  },
  {
   "cell_type": "code",
   "execution_count": null,
   "id": "cb5945fb",
   "metadata": {},
   "outputs": [],
   "source": [
    "# ===Example Runs ===\n",
    "if __name__ == \"__main__\":\n",
    "    # Run simulation\n",
    "    print(\"Running prediction model...\")\n",
    "    sim_result = simulate_option_accurate(ticker, expiry)\n",
    "    print(sim_result)\n",
    "\n",
    "    # Fetch stock data for ML\n",
    "    print(\"\\nFetching stock data for ML training...\")\n",
    "    stock_df = fetch_stock_data(ticker)\n",
    "    print(stock_df.head())"
   ]
  }
 ],
 "metadata": {},
 "nbformat": 4,
 "nbformat_minor": 5
}
