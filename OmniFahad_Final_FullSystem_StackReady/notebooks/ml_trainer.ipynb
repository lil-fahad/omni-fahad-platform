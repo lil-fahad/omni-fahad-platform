{
 "cells": [
  {
   "cell_type": "markdown",
   "id": "e488b32e",
   "metadata": {},
   "source": [
    "# OmniMarket ML Trainer\n",
    "Train machine learning models to predict:\n",
    "- Option premium (price)\n",
    "- P&L at expiry\n",
    "- Implied volatility"
   ]
  },
  {
   "cell_type": "code",
   "execution_count": null,
   "id": "d8c99d2b",
   "metadata": {},
   "outputs": [],
   "source": [
    "!pip install yfinance scikit-learn"
   ]
  },
  {
   "cell_type": "code",
   "execution_count": null,
   "id": "d9bb4abb",
   "metadata": {},
   "outputs": [],
   "source": [
    "import yfinance as yf\n",
    "import pandas as pd\n",
    "import numpy as np\n",
    "from datetime import datetime, timedelta\n",
    "from sklearn.ensemble import RandomForestRegressor\n",
    "from sklearn.model_selection import train_test_split\n",
    "from sklearn.metrics import mean_absolute_error, r2_score"
   ]
  },
  {
   "cell_type": "code",
   "execution_count": null,
   "id": "ad057516",
   "metadata": {},
   "outputs": [],
   "source": [
    "# Step 1: Download underlying price data\n",
    "ticker = input(\"Enter stock ticker: \").upper()\n",
    "end_date = datetime.today()\n",
    "start_date = end_date - timedelta(days=180)\n",
    "stock_data = yf.download(ticker, start=start_date.strftime('%Y-%m-%d'), end=end_date.strftime('%Y-%m-%d'))\n",
    "stock_data = stock_data[['Close']]\n",
    "stock_data.head()"
   ]
  },
  {
   "cell_type": "code",
   "execution_count": null,
   "id": "ecdcdb95",
   "metadata": {},
   "outputs": [],
   "source": [
    "# Step 2: Pick one expiration and build training data from chain\n",
    "yf_ticker = yf.Ticker(ticker)\n",
    "expirations = yf_ticker.options\n",
    "print(\"Available expirations:\", expirations)\n",
    "expiry = input(\"Choose one expiration date: \")\n",
    "chain = yf_ticker.option_chain(expiry)\n",
    "calls = chain.calls\n",
    "puts = chain.puts"
   ]
  },
  {
   "cell_type": "code",
   "execution_count": null,
   "id": "eae08cbc",
   "metadata": {},
   "outputs": [],
   "source": [
    "# Step 3: Feature engineering\n",
    "def create_features(df, option_type):\n",
    "    df = df.copy()\n",
    "    df['type'] = 1 if option_type == 'call' else 0\n",
    "    df['moneyness'] = df['strike'] / stock_data['Close'][-1]\n",
    "    df['mid_price'] = (df['bid'] + df['ask']) / 2\n",
    "    df['iv'] = df.get('impliedVolatility', 0.3)\n",
    "    df = df[['strike', 'lastPrice', 'moneyness', 'mid_price', 'iv', 'type']].dropna()\n",
    "    return df"
   ]
  },
  {
   "cell_type": "code",
   "execution_count": null,
   "id": "ff8237b4",
   "metadata": {},
   "outputs": [],
   "source": [
    "# Prepare features and combine\n",
    "call_features = create_features(calls, 'call')\n",
    "put_features = create_features(puts, 'put')\n",
    "df = pd.concat([call_features, put_features], ignore_index=True)\n",
    "df = df.dropna()\n",
    "df.head()"
   ]
  },
  {
   "cell_type": "code",
   "execution_count": null,
   "id": "b2bdfa3f",
   "metadata": {},
   "outputs": [],
   "source": [
    "# Step 4: Train-test split and model training\n",
    "X = df[['strike', 'moneyness', 'iv', 'type']]\n",
    "y = df['mid_price']\n",
    "X_train, X_test, y_train, y_test = train_test_split(X, y, test_size=0.2, random_state=42)\n",
    "model = RandomForestRegressor(n_estimators=100, random_state=42)\n",
    "model.fit(X_train, y_train)"
   ]
  },
  {
   "cell_type": "code",
   "execution_count": null,
   "id": "072c4cb7",
   "metadata": {},
   "outputs": [],
   "source": [
    "# Step 5: Evaluation\n",
    "y_pred = model.predict(X_test)\n",
    "print(\"MAE:\", mean_absolute_error(y_test, y_pred))\n",
    "print(\"R2:\", r2_score(y_test, y_pred))"
   ]
  },
  {
   "cell_type": "code",
   "execution_count": null,
   "id": "3c9c0a33",
   "metadata": {},
   "outputs": [],
   "source": [
    "# Use the model to predict new data (example)\n",
    "sample_input = X_test.iloc[:5]\n",
    "print(\"Predictions:\", model.predict(sample_input))"
   ]
  }
 ],
 "metadata": {},
 "nbformat": 4,
 "nbformat_minor": 5
}
